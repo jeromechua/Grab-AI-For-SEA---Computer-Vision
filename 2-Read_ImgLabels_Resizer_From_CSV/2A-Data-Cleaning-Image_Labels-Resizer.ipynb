{
 "cells": [
  {
   "cell_type": "markdown",
   "metadata": {},
   "source": [
    "# Data Cleaning"
   ]
  },
  {
   "cell_type": "markdown",
   "metadata": {},
   "source": [
    "This reads all images and resize it. The bounding boxes are also resized proportionally to the image"
   ]
  },
  {
   "cell_type": "markdown",
   "metadata": {},
   "source": [
    "Import all neccessary libraries"
   ]
  },
  {
   "cell_type": "code",
   "execution_count": 18,
   "metadata": {},
   "outputs": [],
   "source": [
    "import cv2 # for reading in image\n",
    "import csv\n",
    "import os"
   ]
  },
  {
   "cell_type": "markdown",
   "metadata": {},
   "source": [
    "Define folder locations\n",
    "-- Create \"cars_train_new\" folder manually"
   ]
  },
  {
   "cell_type": "code",
   "execution_count": 19,
   "metadata": {},
   "outputs": [],
   "source": [
    "current_working_directory = os.getcwd()\n",
    "parent_working_directory = os.path.dirname(current_working_directory) # go up one directory\n",
    "\n",
    "training_data_csv = os.path.join(parent_working_directory, \"1-Read_From_MatLab_To_CSV\", \"cars_train_annos.csv\")\n",
    "original_image = os.path.join(current_working_directory, \"cars_train\")\n",
    "new_image = os.path.join(current_working_directory,\"cars_train_new\")"
   ]
  },
  {
   "cell_type": "markdown",
   "metadata": {},
   "source": [
    "New CSV Location to write to"
   ]
  },
  {
   "cell_type": "code",
   "execution_count": 20,
   "metadata": {},
   "outputs": [],
   "source": [
    "download_dir = \"cars_train_new_labels-512.csv\" #where you want the file to be downloaded to \n",
    "csv2 = open(download_dir, \"w\") "
   ]
  },
  {
   "cell_type": "markdown",
   "metadata": {},
   "source": [
    "Insert CSV Header"
   ]
  },
  {
   "cell_type": "code",
   "execution_count": 21,
   "metadata": {},
   "outputs": [
    {
     "data": {
      "text/plain": [
       "32"
      ]
     },
     "execution_count": 21,
     "metadata": {},
     "output_type": "execute_result"
    }
   ],
   "source": [
    "header = \"filepath,x1,y1,x2,y2,class_name\" + \"\\n\"\n",
    "csv2.write(header)"
   ]
  },
  {
   "cell_type": "markdown",
   "metadata": {},
   "source": [
    "Define New Vertical and horizontal resolution"
   ]
  },
  {
   "cell_type": "code",
   "execution_count": 22,
   "metadata": {},
   "outputs": [],
   "source": [
    "resolution_Horizontal = 512\n",
    "resolution_Vertical = 512"
   ]
  },
  {
   "cell_type": "markdown",
   "metadata": {},
   "source": [
    "Loop to iterate entire series"
   ]
  },
  {
   "cell_type": "code",
   "execution_count": 23,
   "metadata": {},
   "outputs": [],
   "source": [
    "with open(training_data_csv) as csv_file:\n",
    "    csv_reader = csv.reader(csv_file, delimiter=',')\n",
    "    \n",
    "    for i, row in enumerate(csv_reader):\n",
    "        if i != 0: # Skip the header\n",
    "            bbox_x1 = int(row[0])\n",
    "            bbox_y1 = int(row[1])\n",
    "            bbox_x2 = int(row[2])\n",
    "            bbox_y2 = int(row[3])\n",
    "            fname = row[4]\n",
    "            car_type = row[5]\n",
    "\n",
    "\n",
    "            # Change new directory to next image\n",
    "            image_dir_temp = os.path.join(original_image, fname[1:])\n",
    "            cap = cv2.VideoCapture(image_dir_temp)\n",
    "\n",
    "            ret, frame = cap.read()\n",
    "\n",
    "            photo = cv2.cvtColor(frame, cv2.COLOR_BGR2BGRA)\n",
    "\n",
    "            # Resizing photo\n",
    "            resized_photo = cv2.resize(photo, (resolution_Horizontal, resolution_Vertical)) \n",
    "\n",
    "            # Get resolution of current image\n",
    "            width = int(cap.get(cv2.CAP_PROP_FRAME_WIDTH))\n",
    "            height = int(cap.get(cv2.CAP_PROP_FRAME_HEIGHT)) \n",
    "\n",
    "            # Calculate locations of new labels\n",
    "            bbox_x1_calculated = int(bbox_x1 * resolution_Vertical / width)\n",
    "            bbox_y1_calculated = int(bbox_y1 * resolution_Horizontal / height) \n",
    "\n",
    "            bbox_x2_calculated = int(bbox_x2 * resolution_Vertical / width) \n",
    "            bbox_y2_calculated = int(bbox_y2 * resolution_Horizontal / height)\n",
    "\n",
    "\n",
    "            # This is for writing to CSV\n",
    "            to_write = fname[1:] + \",\" + str(bbox_x1_calculated) + \",\" + str(bbox_y1_calculated) + \",\" + str(bbox_x2_calculated) + \",\" + str(bbox_y2_calculated) + \",\" + str(car_type) + \"\\n\"\n",
    "            csv2.write(to_write)\n",
    "\n",
    "            # Saves resized photo\n",
    "            image_dir_temp_new = os.path.join(new_image, fname[1:])\n",
    "            cv2.imwrite(image_dir_temp_new, resized_photo)"
   ]
  },
  {
   "cell_type": "code",
   "execution_count": null,
   "metadata": {},
   "outputs": [],
   "source": []
  }
 ],
 "metadata": {
  "kernelspec": {
   "display_name": "Python 3",
   "language": "python",
   "name": "python3"
  },
  "language_info": {
   "codemirror_mode": {
    "name": "ipython",
    "version": 3
   },
   "file_extension": ".py",
   "mimetype": "text/x-python",
   "name": "python",
   "nbconvert_exporter": "python",
   "pygments_lexer": "ipython3",
   "version": "3.7.3"
  }
 },
 "nbformat": 4,
 "nbformat_minor": 2
}
