{
 "cells": [
  {
   "cell_type": "markdown",
   "metadata": {},
   "source": [
    "# Export MatLab Labels for Image to CSV format\n",
    "\n",
    "\n"
   ]
  },
  {
   "cell_type": "markdown",
   "metadata": {},
   "source": [
    "Import all neccessary libraries"
   ]
  },
  {
   "cell_type": "code",
   "execution_count": 5,
   "metadata": {},
   "outputs": [],
   "source": [
    "from mat4py import loadmat\n",
    "import csv\n",
    "import os"
   ]
  },
  {
   "cell_type": "markdown",
   "metadata": {},
   "source": [
    "Load MatLab File"
   ]
  },
  {
   "cell_type": "code",
   "execution_count": 11,
   "metadata": {},
   "outputs": [],
   "source": [
    "current_working_directory = os.getcwd()\n",
    "matlab_location = os.path.join(current_working_directory, \"cars_train_annos.mat\")\n",
    "data = loadmat(matlab_location)"
   ]
  },
  {
   "cell_type": "markdown",
   "metadata": {},
   "source": [
    "Name of CSV file to be exported as\n",
    "\n"
   ]
  },
  {
   "cell_type": "code",
   "execution_count": 13,
   "metadata": {},
   "outputs": [],
   "source": [
    "download_dir = \"cars_train_annos.csv\"\n",
    "csv = open(download_dir, \"w\")"
   ]
  },
  {
   "cell_type": "markdown",
   "metadata": {},
   "source": [
    "Get numbers of rows to iterate\n",
    "-- Use print(data) to see the structure of data"
   ]
  },
  {
   "cell_type": "code",
   "execution_count": 14,
   "metadata": {},
   "outputs": [],
   "source": [
    "sizeOfLoop = len(data[\"annotations\"][\"bbox_x1\"])"
   ]
  },
  {
   "cell_type": "markdown",
   "metadata": {},
   "source": [
    "Write Header to CSV File"
   ]
  },
  {
   "cell_type": "code",
   "execution_count": 15,
   "metadata": {},
   "outputs": [
    {
     "data": {
      "text/plain": [
       "54"
      ]
     },
     "execution_count": 15,
     "metadata": {},
     "output_type": "execute_result"
    }
   ],
   "source": [
    "to_write = \"bbox_x1, bbox_y1, bbox_x2, bbox_y2, fname, class_name\" + \"\\n\"\n",
    "csv.write(to_write)"
   ]
  },
  {
   "cell_type": "markdown",
   "metadata": {},
   "source": [
    "Write Data to CSV File"
   ]
  },
  {
   "cell_type": "code",
   "execution_count": 16,
   "metadata": {},
   "outputs": [],
   "source": [
    "for line in range(sizeOfLoop):\n",
    "    bbox_x1 = str(data[\"annotations\"][\"bbox_x1\"][line])\n",
    "    bbox_y1 = str(data[\"annotations\"][\"bbox_y1\"][line])\n",
    "    bbox_x2 = str(data[\"annotations\"][\"bbox_x2\"][line])\n",
    "    bbox_y2 = str(data[\"annotations\"][\"bbox_y2\"][line])\n",
    "    bbox_y2 = str(data[\"annotations\"][\"bbox_y2\"][line])\n",
    "    class_name = str(data[\"annotations\"][\"class\"][line])\n",
    "    fname = str(data[\"annotations\"][\"fname\"][line])\n",
    "    \n",
    "    to_write = bbox_x1 + \", \" + bbox_y1 + \", \" + bbox_x2 + \", \" + bbox_y2 + \", \" + fname + \", \" + class_name + \"\\n\"\n",
    "    csv.write(to_write)"
   ]
  }
 ],
 "metadata": {
  "kernelspec": {
   "display_name": "Python 3",
   "language": "python",
   "name": "python3"
  },
  "language_info": {
   "codemirror_mode": {
    "name": "ipython",
    "version": 3
   },
   "file_extension": ".py",
   "mimetype": "text/x-python",
   "name": "python",
   "nbconvert_exporter": "python",
   "pygments_lexer": "ipython3",
   "version": "3.7.3"
  }
 },
 "nbformat": 4,
 "nbformat_minor": 2
}
